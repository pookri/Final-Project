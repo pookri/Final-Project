{
 "cells": [
  {
   "cell_type": "code",
   "execution_count": null,
   "metadata": {},
   "outputs": [],
   "source": [
    "import pandas\n",
    "import collections\n",
    "import numpy as np\n",
    "from sklearn import tree\n",
    "import pydotplus\n",
    "from sklearn.tree import DecisionTreeClassifier\n",
    "from sklearn.tree import plot_tree\n",
    "import matplotlib.pyplot as plt\n",
    "import matplotlib.image as pltimg\n",
    "bdata=pandas.read_csv(\"Book2.csv\")\n",
    "#print(bdata)"
   ]
  },
  {
   "cell_type": "code",
   "execution_count": null,
   "metadata": {},
   "outputs": [],
   "source": [
    "d1 = {'yes': 1, 'no': 0}\n",
    "bdata['loan'] = bdata['loan'].map(d1)\n",
    "bdata['default'] = bdata['default'].map(d1)\n",
    "bdata['housing'] = bdata['housing'].map(d1)\n",
    "bdata['y'] = bdata['y'].map(d1)\n",
    "d2={'married':0,'divorced':1,'single':2}\n",
    "bdata['marital'] = bdata['marital'].map(d2)\n",
    "d3 = {'unknown':0,'primary':1,'secondary':2,'tertiary':3 }\n",
    "bdata['education'] = bdata['education'].map(d3)\n",
    "d4 = {'unknown':0,'telephone':1,'cellular':2}\n",
    "bdata['contact'] = bdata['contact'].map(d4)\n",
    "d5={'unknown':0,'other':1,'failure':2,'success':3}\n",
    "bdata['poutcome'] = bdata['poutcome'].map(d5)\n",
    "d6={'jan':1,'feb':2,'mar':3,'apr':4,'may':5,'jun':6,'jul':7,'aug':8,'sep':9,'oct':10,'nov':11,'dec':12}\n",
    "bdata['month'] = bdata['month'].map(d6)\n",
    "d7 = {'admin':12, 'unknown':1, 'management':2,'housemaid':3,'entrepreneur':4,'student':5,'blue-collar':6,'self-employed':7,'retired':8,'technician':9,'services':10,'unemployed':11}\n",
    "bdata['job'] = bdata['job'].map(d7)\n",
    "bdata.replace([np.inf, -np.inf], np.nan, inplace=True)\n",
    "bdata.fillna(999, inplace=True)\n",
    "#print(bdata)\n"
   ]
  },
  {
   "cell_type": "code",
   "execution_count": null,
   "metadata": {},
   "outputs": [],
   "source": [
    "features = ['age', 'job', 'marital', 'education','default','balance','housing','loan','contact','day','month','duration','campaign','pdays','previous','poutcome']\n",
    "target=['y']\n",
    "X = bdata[features]\n",
    "y = bdata['y']\n",
    "\n",
    "#print(X)\n",
    "#print(y)"
   ]
  },
  {
   "cell_type": "code",
   "execution_count": null,
   "metadata": {},
   "outputs": [],
   "source": [
    "clf = DecisionTreeClassifier(max_depth=6) #max_depth is maximum number of levels in the tree\n",
    "clf.fit(X, y)\n",
    "\n",
    "plt.figure(figsize=(40,20))\n",
    "a = plot_tree(clf, \n",
    "              feature_names=features, \n",
    "              filled=True, \n",
    "              rounded=True, \n",
    "              fontsize=14) "
   ]
  },
  {
   "cell_type": "code",
   "execution_count": null,
   "metadata": {},
   "outputs": [],
   "source": [
    "dtree = DecisionTreeClassifier()\n",
    "dtree = dtree.fit(X, y)\n",
    "data = tree.export_graphviz(dtree, out_file=None, feature_names=features)\n",
    "graph = pydotplus.graph_from_dot_data(data)\n",
    "graph.write_png('mydecisiontree.png')\n",
    "\n",
    "img=pltimg.imread('mydecisiontree.png')\n",
    "imgplot = plt.imshow(img)\n",
    "plt.show()"
   ]
  }
 ],
 "metadata": {
  "interpreter": {
   "hash": "5288d29ac42d8e8d2c0fc1c039d1901c9162323c060aa9d5426e55416be85c12"
  },
  "kernelspec": {
   "display_name": "Python 3.9.7 ('dtree')",
   "language": "python",
   "name": "python3"
  },
  "language_info": {
   "codemirror_mode": {
    "name": "ipython",
    "version": 3
   },
   "file_extension": ".py",
   "mimetype": "text/x-python",
   "name": "python",
   "nbconvert_exporter": "python",
   "pygments_lexer": "ipython3",
   "version": "3.9.7"
  },
  "orig_nbformat": 4
 },
 "nbformat": 4,
 "nbformat_minor": 2
}
