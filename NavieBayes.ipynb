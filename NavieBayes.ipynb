{
 "cells": [
  {
   "cell_type": "code",
   "execution_count": 1,
   "metadata": {},
   "outputs": [],
   "source": [
    "import pandas as pd\n",
    "import numpy as np\n",
    "import matplotlib.pyplot as plt\n",
    "from sklearn.naive_bayes import GaussianNB\n",
    "from sklearn.metrics import accuracy_score\n",
    "from sklearn.model_selection import train_test_split\n",
    "from sklearn.metrics import confusion_matrix\n",
    "from sklearn.metrics import roc_curve\n",
    "from sklearn.model_selection import cross_val_score\n",
    "from sklearn.metrics import classification_report\n",
    "\n",
    "bdata=pd.read_csv(\"BankDatset.csv\")\n",
    "\n",
    "#https://www.kaggle.com/code/prashant111/naive-bayes-classifier-in-python/notebook\n"
   ]
  },
  {
   "cell_type": "code",
   "execution_count": 2,
   "metadata": {},
   "outputs": [],
   "source": [
    "d1 = {'yes': 1, 'no': 0}\n",
    "bdata['loan'] = bdata['loan'].map(d1)\n",
    "bdata['default'] = bdata['default'].map(d1)\n",
    "bdata['housing'] = bdata['housing'].map(d1)\n",
    "d2={'married':0,'divorced':1,'single':2}\n",
    "bdata['marital'] = bdata['marital'].map(d2)\n",
    "d3 = {'unknown':0,'primary':1,'secondary':2,'tertiary':3 }\n",
    "bdata['education'] = bdata['education'].map(d3)\n",
    "d4 = {'unknown':0,'telephone':1,'cellular':2}\n",
    "bdata['contact'] = bdata['contact'].map(d4)\n",
    "d5={'unknown':0,'other':1,'failure':2,'success':3}\n",
    "bdata['poutcome'] = bdata['poutcome'].map(d5)\n",
    "d6={'jan':1,'feb':2,'mar':3,'apr':4,'may':5,'jun':6,'jul':7,'aug':8,'sep':9,'oct':10,'nov':11,'dec':12}\n",
    "bdata['month'] = bdata['month'].map(d6)\n",
    "d7 = {'admin':12, 'unknown':1, 'management':2,'housemaid':3,'entrepreneur':4,'student':5,'blue-collar':6,'self-employed':7,'retired':8,'technician':9,'services':10,'unemployed':11}\n",
    "bdata['job'] = bdata['job'].map(d7)\n",
    "\n",
    "bdata.replace([np.inf, -np.inf], np.nan, inplace=True)\n",
    "bdata.fillna(999, inplace=True)\n"
   ]
  },
  {
   "cell_type": "code",
   "execution_count": 3,
   "metadata": {},
   "outputs": [],
   "source": [
    "features = ['age', 'job', 'marital', 'education','default','balance','housing','loan','contact','day','month','duration','campaign','pdays','previous','poutcome']\n",
    "target=['y']\n",
    "X = bdata[features]\n",
    "y = bdata['y']\n",
    "X_train,X_test,y_train,y_test=train_test_split(X,y,test_size=0.2,random_state=10)"
   ]
  },
  {
   "cell_type": "code",
   "execution_count": 4,
   "metadata": {},
   "outputs": [
    {
     "name": "stdout",
     "output_type": "stream",
     "text": [
      "      age    job  marital  education  default  balance  housing  loan  \\\n",
      "2072   44    2.0        2          3        0    -1313        1     1   \n",
      "4301   49    6.0        0          1        0      371        1     0   \n",
      "867    33    6.0        1          1        0      636        1     0   \n",
      "2532   48   11.0        1          2        0     1266        1     0   \n",
      "707    55    8.0        0          1        0     8894        0     0   \n",
      "...   ...    ...      ...        ...      ...      ...      ...   ...   \n",
      "1347   29    7.0        0          3        0      751        1     0   \n",
      "1863   32  999.0        2          2        0       45        1     1   \n",
      "924    45    3.0        0          1        0     7353        0     0   \n",
      "174    42    2.0        0          3        0     9009        0     0   \n",
      "4029   37    7.0        0          2        0      487        0     1   \n",
      "\n",
      "      contact  day  month  duration  campaign  pdays  previous  poutcome  \n",
      "2072        2   15      5       104        10     -1         0         0  \n",
      "4301        2   31      7        18        44     -1         0         0  \n",
      "867         2    9      7       211        11     -1         0         0  \n",
      "2532        1    3      2        45         1     -1         0         0  \n",
      "707         0   11      6       262         1     -1         0         0  \n",
      "...       ...  ...    ...       ...       ...    ...       ...       ...  \n",
      "1347        0   23      5       121         2     -1         0         0  \n",
      "1863        2   14      5       908         3    344         7         1  \n",
      "924         2   13      8       536         2     -1         0         0  \n",
      "174         2   20     11       135         2     -1         0         0  \n",
      "4029        2   27      8       155        15     -1         0         0  \n",
      "\n",
      "[905 rows x 16 columns]\n"
     ]
    }
   ],
   "source": [
    "nv = GaussianNB()\n",
    "nv.fit(X_train, y_train)\n",
    "print(X_test)\n",
    "y_pred = nv.predict(X_test)\n",
    "#for i in range(len(X_test)):\n",
    "   \n",
    "\n"
   ]
  },
  {
   "cell_type": "code",
   "execution_count": 5,
   "metadata": {},
   "outputs": [
    {
     "name": "stdout",
     "output_type": "stream",
     "text": [
      "0.8209944751381215\n",
      "Null accuracy score: 0.8887\n"
     ]
    }
   ],
   "source": [
    "print(accuracy_score(y_test,y_pred))\n",
    "null_accuracy = (1206/(1206+151))\n",
    "print('Null accuracy score: {0:0.4f}'. format(null_accuracy))"
   ]
  },
  {
   "cell_type": "code",
   "execution_count": 6,
   "metadata": {},
   "outputs": [
    {
     "name": "stdout",
     "output_type": "stream",
     "text": [
      "Confusion matrix\n",
      "\n",
      " [[687 109]\n",
      " [ 53  56]]\n",
      "\n",
      "True Positives(TP) =  687\n",
      "\n",
      "True Negatives(TN) =  56\n",
      "\n",
      "False Positives(FP) =  109\n",
      "\n",
      "False Negatives(FN) =  53\n"
     ]
    }
   ],
   "source": [
    "cm = confusion_matrix(y_test, y_pred)\n",
    "\n",
    "print('Confusion matrix\\n\\n', cm)\n",
    "print('\\nTrue Positives(TP) = ', cm[0,0])\n",
    "print('\\nTrue Negatives(TN) = ', cm[1,1])\n",
    "print('\\nFalse Positives(FP) = ', cm[0,1])\n",
    "print('\\nFalse Negatives(FN) = ', cm[1,0])"
   ]
  },
  {
   "cell_type": "code",
   "execution_count": 7,
   "metadata": {},
   "outputs": [
    {
     "name": "stdout",
     "output_type": "stream",
     "text": [
      "              precision    recall  f1-score   support\n",
      "\n",
      "          no       0.93      0.86      0.89       796\n",
      "         yes       0.34      0.51      0.41       109\n",
      "\n",
      "    accuracy                           0.82       905\n",
      "   macro avg       0.63      0.69      0.65       905\n",
      "weighted avg       0.86      0.82      0.84       905\n",
      "\n"
     ]
    }
   ],
   "source": [
    "print(classification_report(y_test, y_pred))"
   ]
  },
  {
   "cell_type": "code",
   "execution_count": 8,
   "metadata": {},
   "outputs": [
    {
     "name": "stdout",
     "output_type": "stream",
     "text": [
      "Classification accuracy : 0.8210\n"
     ]
    }
   ],
   "source": [
    "TP = cm[0,0]\n",
    "TN = cm[1,1]\n",
    "FP = cm[0,1]\n",
    "FN = cm[1,0]\n",
    "\n",
    "classification_accuracy = (TP + TN) / float(TP + TN + FP + FN)\n",
    "\n",
    "print('Classification accuracy : {0:0.4f}'.format(classification_accuracy))"
   ]
  },
  {
   "cell_type": "code",
   "execution_count": 9,
   "metadata": {},
   "outputs": [
    {
     "name": "stdout",
     "output_type": "stream",
     "text": [
      "Classification error : 0.1790\n"
     ]
    }
   ],
   "source": [
    "classification_error = (FP + FN) / float(TP + TN + FP + FN)\n",
    "\n",
    "print('Classification error : {0:0.4f}'.format(classification_error))"
   ]
  },
  {
   "cell_type": "code",
   "execution_count": 10,
   "metadata": {},
   "outputs": [
    {
     "name": "stdout",
     "output_type": "stream",
     "text": [
      "Precision : 0.8631\n"
     ]
    }
   ],
   "source": [
    "precision = TP / float(TP + FP)\n",
    "print('Precision : {0:0.4f}'.format(precision))"
   ]
  },
  {
   "cell_type": "code",
   "execution_count": 11,
   "metadata": {},
   "outputs": [
    {
     "name": "stdout",
     "output_type": "stream",
     "text": [
      "Recall or Sensitivity : 0.9284\n"
     ]
    }
   ],
   "source": [
    "recall = TP / float(TP + FN)\n",
    "print('Recall or Sensitivity : {0:0.4f}'.format(recall))"
   ]
  },
  {
   "cell_type": "code",
   "execution_count": 12,
   "metadata": {},
   "outputs": [
    {
     "name": "stdout",
     "output_type": "stream",
     "text": [
      "F1 Score : 0.8945\n"
     ]
    }
   ],
   "source": [
    "f1_score = 2 * (precision * recall) / (precision + recall)\n",
    "print('F1 Score : {0:0.4f}'.format(f1_score))"
   ]
  },
  {
   "cell_type": "code",
   "execution_count": 13,
   "metadata": {},
   "outputs": [
    {
     "name": "stdout",
     "output_type": "stream",
     "text": [
      "True Positive Rate : 0.9284\n"
     ]
    }
   ],
   "source": [
    "true_positive_rate = TP / float(TP + FN)\n",
    "print('True Positive Rate : {0:0.4f}'.format(true_positive_rate))"
   ]
  },
  {
   "cell_type": "code",
   "execution_count": 14,
   "metadata": {},
   "outputs": [
    {
     "name": "stdout",
     "output_type": "stream",
     "text": [
      "False Positive Rate : 0.6606\n"
     ]
    }
   ],
   "source": [
    "false_positive_rate = FP / float(FP + TN)\n",
    "print('False Positive Rate : {0:0.4f}'.format(false_positive_rate))"
   ]
  },
  {
   "cell_type": "code",
   "execution_count": 15,
   "metadata": {},
   "outputs": [
    {
     "name": "stdout",
     "output_type": "stream",
     "text": [
      "Specificity : 0.3394\n"
     ]
    }
   ],
   "source": [
    "specificity = TN / (TN + FP)\n",
    "print('Specificity : {0:0.4f}'.format(specificity))"
   ]
  },
  {
   "cell_type": "code",
   "execution_count": 16,
   "metadata": {},
   "outputs": [
    {
     "name": "stdout",
     "output_type": "stream",
     "text": [
      "Cross-validation scores:[0.82044199 0.83425414 0.86740331 0.82596685 0.80939227 0.8121547\n",
      " 0.83102493 0.84210526 0.8365651  0.80886427]\n",
      "Average cross-validation score: 0.8288\n"
     ]
    }
   ],
   "source": [
    "scores = cross_val_score(nv, X_train, y_train, cv = 10, scoring='accuracy')\n",
    "print('Cross-validation scores:{}'.format(scores))\n",
    "\n",
    "print('Average cross-validation score: {:.4f}'.format(scores.mean()))"
   ]
  },
  {
   "cell_type": "code",
   "execution_count": 17,
   "metadata": {},
   "outputs": [
    {
     "data": {
      "image/png": "[encoded data removed]",
      "text/plain": [
       "<Figure size 432x288 with 1 Axes>"
      ]
     },
     "metadata": {
      "needs_background": "light"
     },
     "output_type": "display_data"
    }
   ],
   "source": [
    "y_pred1 = nv.predict_proba(X_test)[:, 1]\n",
    "fpr, tpr, thresholds = roc_curve(y_test, y_pred1, pos_label = 'yes')\n",
    "\n",
    "plt.figure(figsize=(6,4))\n",
    "plt.plot(fpr, tpr, linewidth=2)\n",
    "plt.plot([0,1], [0,1], 'k--' )\n",
    "plt.rcParams['font.size'] = 12\n",
    "plt.title('ROC curve for Gaussian Naive Bayes Classifier for Predicting Salaries')\n",
    "plt.xlabel('False Positive Rate (Specificity)')\n",
    "plt.ylabel('True Positive Rate (Sensitivity)')\n",
    "plt.show()"
   ]
  }
 ],
 "metadata": {
  "interpreter": {
   "hash": "5288d29ac42d8e8d2c0fc1c039d1901c9162323c060aa9d5426e55416be85c12"
  },
  "kernelspec": {
   "display_name": "Python 3.9.7 ('dtree')",
   "language": "python",
   "name": "python3"
  },
  "language_info": {
   "codemirror_mode": {
    "name": "ipython",
    "version": 3
   },
   "file_extension": ".py",
   "mimetype": "text/x-python",
   "name": "python",
   "nbconvert_exporter": "python",
   "pygments_lexer": "ipython3",
   "version": "3.9.7"
  },
  "orig_nbformat": 4
 },
 "nbformat": 4,
 "nbformat_minor": 2
}
